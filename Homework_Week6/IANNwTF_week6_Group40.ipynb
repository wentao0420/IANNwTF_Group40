{
  "cells": [
    {
      "cell_type": "markdown",
      "metadata": {
        "id": "view-in-github",
        "colab_type": "text"
      },
      "source": [
        "<a href=\"https://colab.research.google.com/github/wentao0420/IANNwTF_Group40/blob/main/IANNwTF_week6_Group40.ipynb\" target=\"_parent\"><img src=\"https://colab.research.google.com/assets/colab-badge.svg\" alt=\"Open In Colab\"/></a>"
      ]
    },
    {
      "cell_type": "markdown",
      "metadata": {
        "id": "6Ky_7PMa4QM7"
      },
      "source": [
        "## **2 Assignment: CIFAR-10 Classification**\n",
        "\n",
        "---"
      ]
    },
    {
      "cell_type": "code",
      "execution_count": null,
      "metadata": {
        "colab": {
          "base_uri": "https://localhost:8080/"
        },
        "id": "Q7nNKpNNObhz",
        "outputId": "d47eae7d-3914-44b1-da77-ea733a33bd33"
      },
      "outputs": [
        {
          "output_type": "stream",
          "name": "stdout",
          "text": [
            "Looking in indexes: https://pypi.org/simple, https://us-python.pkg.dev/colab-wheels/public/simple/\n",
            "Requirement already satisfied: keras_cv in /usr/local/lib/python3.8/dist-packages (0.3.4)\n",
            "Requirement already satisfied: packaging in /usr/local/lib/python3.8/dist-packages (from keras_cv) (21.3)\n",
            "Requirement already satisfied: absl-py in /usr/local/lib/python3.8/dist-packages (from keras_cv) (1.3.0)\n",
            "Requirement already satisfied: regex in /usr/local/lib/python3.8/dist-packages (from keras_cv) (2022.6.2)\n",
            "Requirement already satisfied: pyparsing!=3.0.5,>=2.0.2 in /usr/local/lib/python3.8/dist-packages (from packaging->keras_cv) (3.0.9)\n"
          ]
        }
      ],
      "source": [
        "pip install keras_cv"
      ]
    },
    {
      "cell_type": "code",
      "execution_count": null,
      "metadata": {
        "id": "cJh1xxVAaUJp"
      },
      "outputs": [],
      "source": [
        "import numpy as np\n",
        "import tensorflow as tf\n",
        "import matplotlib.pyplot as plt\n",
        "import tensorflow_datasets as tfds\n",
        "import datetime as datetime\n",
        "import tqdm\n",
        "import keras_cv"
      ]
    },
    {
      "cell_type": "code",
      "execution_count": null,
      "metadata": {
        "id": "wxBn7OUqaaor"
      },
      "outputs": [],
      "source": [
        "(train_ds, test_ds), ds_info = tfds.load ('cifar10', split =['train', 'test'], as_supervised = True, with_info = True)"
      ]
    },
    {
      "cell_type": "code",
      "execution_count": null,
      "metadata": {
        "id": "-9maLF25Ibxm"
      },
      "outputs": [],
      "source": [
        "ds_info"
      ]
    },
    {
      "cell_type": "code",
      "execution_count": null,
      "metadata": {
        "id": "tb884T_DGy7T"
      },
      "outputs": [],
      "source": [
        "tfds.show_examples(train_ds, ds_info)"
      ]
    },
    {
      "cell_type": "markdown",
      "metadata": {
        "id": "em-OggBb4eHq"
      },
      "source": [
        "## **2.1 Prepare the dataset**\n",
        "\n",
        "---"
      ]
    },
    {
      "cell_type": "code",
      "execution_count": null,
      "metadata": {
        "id": "JQctnnE1RnOb"
      },
      "outputs": [],
      "source": [
        "def preprocess(ds):\n",
        "    # image should be float\n",
        "    ds = ds.map(lambda x, t: (tf.cast(x, tf.float32), t))\n",
        "    # image vector will here have values between -1 and 1\n",
        "    ds = ds.map(lambda x, t: ((x/128.)-1., t))\n",
        "    # target vector is converted into one-hot vector\n",
        "    ds = ds.map(lambda x, t: (x, tf.one_hot(t, depth=10))) \n",
        "    # cache\n",
        "    ds = ds.cache()\n",
        "    # shuffle, batch, prefetch\n",
        "    ds = ds.shuffle(1000)\n",
        "    ds = ds.batch(32)\n",
        "    ds = ds.prefetch(tf.data.AUTOTUNE)\n",
        "     \n",
        "    #Data Augmentation\n",
        "    augmentation_model = keras_cv.layers.RandAugment(\n",
        "    value_range=(0, 255),\n",
        "    augmentations_per_image=3,\n",
        "    magnitude=0.3,\n",
        "    )\n",
        "\n",
        "    ds = ds.map(lambda x, y: (augmentation_model(x), y), num_parallel_calls = tf.data.AUTOTUNE)\n",
        "\n",
        "    return ds    \n",
        "\n",
        "train_ds = preprocess(train_ds)\n",
        "test_ds = preprocess(test_ds)"
      ]
    },
    {
      "cell_type": "markdown",
      "metadata": {
        "id": "vOdzvbFp4km2"
      },
      "source": [
        "## **2.2 Optimise Your Model**\n",
        "\n",
        "---\n",
        "Model:\n",
        "*   With L1\n",
        "*   With L2\n",
        "*   Dropout\n",
        "*   Label smoothing\n",
        "*   Batch normalization\n",
        "*   Without any regularizers\n",
        "\n"
      ]
    },
    {
      "cell_type": "code",
      "execution_count": null,
      "metadata": {
        "id": "9yBsXyqBak5S"
      },
      "outputs": [],
      "source": [
        "class Conv_Model(tf.keras.Model):\n",
        "    def __init__(self, L1=0, L2=0, dropout_rate=0, loss_function=False, batch_norm=False):\n",
        "        super(Conv_Model, self).__init__()\n",
        "\n",
        "        self.metrics_list = [tf.keras.metrics.Mean(name=\"total_frobenius_norm\"),\n",
        "                             tf.keras.metrics.Mean(name=\"loss\"),\n",
        "                             tf.keras.metrics.CategoricalAccuracy(name=\"accuracy\"),]\n",
        "        self.dropout_rate = dropout_rate\n",
        "        self.loss_function = loss_function\n",
        "        self.optimizer = tf.keras.optimizers.Adam()\n",
        "        \n",
        "        if L2 >= 0:\n",
        "            kernel_regularizer=tf.keras.regularizers.L2(L2)\n",
        "        elif L1 > 0: \n",
        "            kernel_regularizer=tf.keras.regularizers.L2(L1)\n",
        "\n",
        "        if self.dropout_rate:\n",
        "            self.dropout_layer = tf.keras.layers.Dropout(dropout_rate)\n",
        "\n",
        "        if self.loss_function:\n",
        "            self.loss_function = tf.keras.losses.CategoricalCrossentropy()\n",
        "        else:\n",
        "            self.loss_function = tf.keras.losses.CategoricalCrossentropy(label_smoothing=0.1)\n",
        "\n",
        "        if batch_norm:\n",
        "            self.layer_list = [tf.keras.layers.Conv2D(32, 3, activation=\"relu\", kernel_regularizer=kernel_regularizer), tf.keras.layers.BatchNormalization(),\n",
        "                               tf.keras.layers.Conv2D(32, 3, activation=\"relu\", kernel_regularizer=kernel_regularizer), tf.keras.layers.BatchNormalization(),\n",
        "                               tf.keras.layers.Conv2D(32, 3, activation=\"relu\", kernel_regularizer=kernel_regularizer), tf.keras.layers.BatchNormalization(),\n",
        "                               tf.keras.layers.Conv2D(32, 3, activation=\"relu\", kernel_regularizer=kernel_regularizer), tf.keras.layers.BatchNormalization(),\n",
        "                               tf.keras.layers.GlobalAvgPool2D(),\n",
        "                               tf.keras.layers.Dense(10, activation=\"softmax\", kernel_regularizer=kernel_regularizer)]\n",
        "\n",
        "        else:\n",
        "            self.layer_list = [tf.keras.layers.Conv2D(32, 3, activation=\"relu\", kernel_regularizer=kernel_regularizer), \n",
        "                               tf.keras.layers.Conv2D(32, 3,activation=\"relu\", kernel_regularizer=kernel_regularizer), \n",
        "                               tf.keras.layers.Conv2D(32, 3, activation=\"relu\", kernel_regularizer=kernel_regularizer), \n",
        "                               tf.keras.layers.Conv2D(32, 3, activation=\"relu\", kernel_regularizer=kernel_regularizer), \n",
        "                               tf.keras.layers.GlobalAvgPool2D(),\n",
        "                               tf.keras.layers.Dense(10, activation=\"softmax\", kernel_regularizer=kernel_regularizer)]\n",
        "\n",
        "    def call(self, x, training=False):\n",
        "        for layer in self.layer_list[:-1]:\n",
        "            x = layer(x)\n",
        "            if self.dropout_rate:\n",
        "                x = self.dropout_layer(x, training)\n",
        "\n",
        "        return self.layer_list[-1](x)\n",
        "\n",
        "    @property\n",
        "    def metrics(self):\n",
        "        return self.metrics_list\n",
        "\n",
        "    def reset_metrics(self):\n",
        "        for metric in self.metrics:\n",
        "            metric.reset_states()\n",
        "    \n",
        "    def frobenius(self):\n",
        "        frobenius_norm = tf.zeros((1,))\n",
        "        for var in self.trainable_variables:\n",
        "            frobenius_norm += tf.norm(var, ord=\"euclidean\")\n",
        "        return frobenius_norm\n",
        "\n",
        "    @tf.function\n",
        "    def train_step(self, data):\n",
        "        img, label = data\n",
        "\n",
        "        with tf.GradientTape() as tape:\n",
        "            prediction = self(img, training=True)\n",
        "            loss = self.loss_function(label, prediction)\n",
        "\n",
        "        gradients = tape.gradient(loss, self.trainable_variables)\n",
        "\n",
        "        self.optimizer.apply_gradients(zip(gradients, self.trainable_variables))\n",
        "\n",
        "        # update the state of the metrics according to loss\n",
        "        self.metrics[0].update_state(self.frobenius())\n",
        "        self.metrics[1].update_state(loss)\n",
        "        self.metrics[2].update_state(label, prediction)\n",
        "\n",
        "        # return a dictionary with metric names as keys and metric results as values\n",
        "        return {m.name: m.result() for m in self.metrics}\n",
        "\n",
        "    @tf.function\n",
        "    def test_step(self, data):\n",
        "        img, label = data\n",
        "\n",
        "        prediction = self(img, training=False)\n",
        "        loss = self.loss_function(label, prediction)\n",
        "\n",
        "        # update the state of the metrics according to loss\n",
        "        self.metrics[0].update_state(self.frobenius())\n",
        "        self.metrics[1].update_state(loss)\n",
        "        self.metrics[2].update_state(label, prediction)\n",
        "\n",
        "        # return a dictionary with metric names as keys and metric results as values\n",
        "        return {m.name: m.result() for m in self.metrics}"
      ]
    },
    {
      "cell_type": "code",
      "execution_count": null,
      "metadata": {
        "id": "3c5PtVqsar9x"
      },
      "outputs": [],
      "source": [
        "def create_summary_writers(config_name):\n",
        "    \n",
        "    current_time = datetime.datetime.now().strftime(\"%Y%m%d-%H%M%S\")\n",
        "\n",
        "    train_log_path = f\"logs/{config_name}/{current_time}/train\"\n",
        "    val_log_path = f\"logs/{config_name}/{current_time}/val\"\n",
        "\n",
        "    # log writer for training metrics\n",
        "    train_summary_writer = tf.summary.create_file_writer(train_log_path)\n",
        "\n",
        "    # log writer for validation metrics\n",
        "    val_summary_writer = tf.summary.create_file_writer(val_log_path)\n",
        "    \n",
        "    return train_summary_writer, val_summary_writer\n",
        "\n",
        "train_summary_writer, val_summary_writer = create_summary_writers(config_name=\"RUN1\")"
      ]
    },
    {
      "cell_type": "code",
      "execution_count": null,
      "metadata": {
        "id": "vBZpv731YTQS"
      },
      "outputs": [],
      "source": [
        "# initialize lists for later visualiztion\n",
        "train_forbenius_norm = []\n",
        "train_losses = []\n",
        "train_accuracies = []\n",
        "val_forbenius_norm = []\n",
        "val_losses = []\n",
        "val_accuracies = []\n",
        "\n",
        "# initialize epochs and learning rate\n",
        "epochs = 15\n",
        "learning_rate = 0.01"
      ]
    },
    {
      "cell_type": "code",
      "execution_count": null,
      "metadata": {
        "id": "yxUtkerxWMA8"
      },
      "outputs": [],
      "source": [
        "# initialize model with L1 regularizer\n",
        "model = Conv_Model(L1=0.001, loss_function=True)"
      ]
    },
    {
      "cell_type": "code",
      "execution_count": null,
      "metadata": {
        "id": "PtqxPTQxWqrZ"
      },
      "outputs": [],
      "source": [
        "# initialize model with L2 regularizer\n",
        "model = Conv_Model(L2=0.001, loss_function=True)"
      ]
    },
    {
      "cell_type": "code",
      "execution_count": null,
      "metadata": {
        "id": "KXVYd2NQW0IS"
      },
      "outputs": [],
      "source": [
        "# initialize model with dropout\n",
        "model = Conv_Model(dropout_rate=0.5, loss_function=True)"
      ]
    },
    {
      "cell_type": "code",
      "execution_count": null,
      "metadata": {
        "id": "dChLDRdaXN4z"
      },
      "outputs": [],
      "source": [
        "# initialize model with label smoothing\n",
        "model = Conv_Model(loss_function=False)"
      ]
    },
    {
      "cell_type": "code",
      "execution_count": null,
      "metadata": {
        "id": "6pwiyJ-uXTda"
      },
      "outputs": [],
      "source": [
        "# initialize model with batch normalization\n",
        "model = Conv_Model(batch_norm=True)"
      ]
    },
    {
      "cell_type": "code",
      "execution_count": null,
      "metadata": {
        "id": "11r230fuXdDr"
      },
      "outputs": [],
      "source": [
        "# initialize model without regularizers\n",
        "model = Conv_Model()"
      ]
    },
    {
      "cell_type": "markdown",
      "metadata": {
        "id": "um447UN54ycR"
      },
      "source": [
        "## **2.3 Train the network**\n",
        "---"
      ]
    },
    {
      "cell_type": "code",
      "execution_count": null,
      "metadata": {
        "id": "eNJ_Fe4na4u4"
      },
      "outputs": [],
      "source": [
        "def training():\n",
        "    \n",
        "    for epoch in range(epochs):\n",
        "        print(f\"Epoch: {epoch}, optimizer: {model.optimizer}\")\n",
        "\n",
        "        for data in tqdm.tqdm(train_ds, position=0, leave=True):\n",
        "            metrics = model.train_step(data)\n",
        "\n",
        "            with train_summary_writer.as_default():\n",
        "                for metric in model.metrics:\n",
        "                    tf.summary.scalar(f\"{metric.name}\", metric.result(), step=epoch)\n",
        "\n",
        "        print([f\"train_{key}: {value.numpy()}\" for (key, value) in metrics.items()])\n",
        "\n",
        "        for (key, value) in metrics.items():\n",
        "            if key == \"total_frobenius_norm\":\n",
        "                train_forbenius_norm.append(value.numpy())\n",
        "            elif key == \"loss\":\n",
        "                train_losses.append(value.numpy())\n",
        "            elif key == \"accuracy\":\n",
        "                train_accuracies.append(value.numpy())\n",
        "\n",
        "        # reset metric object\n",
        "        model.reset_metrics()\n",
        "\n",
        "        # evaluate on validation data\n",
        "        for data in test_ds:\n",
        "            metrics = model.test_step(data)\n",
        "\n",
        "        # log validation metrics\n",
        "        with val_summary_writer.as_default():\n",
        "            for metric in model.metrics:\n",
        "                tf.summary.scalar(f\"{metric.name}\", metric.result(), step = epoch)\n",
        "\n",
        "        print([f\"val_{key}: {value.numpy()}\" for (key, value) in metrics.items()])\n",
        "\n",
        "        # make a list of losses and accuracies\n",
        "        for (key, value) in metrics.items():\n",
        "            if key == \"total_frobenius_norm\":\n",
        "                val_forbenius_norm.append(value.numpy())\n",
        "            elif key == \"loss\":\n",
        "                val_losses.append(value.numpy())\n",
        "            elif key == \"accuracy\":\n",
        "                val_accuracies.append(value.numpy())\n",
        "\n",
        "        # reset all metrics\n",
        "        model.reset_metrics()"
      ]
    },
    {
      "cell_type": "code",
      "execution_count": null,
      "metadata": {
        "colab": {
          "base_uri": "https://localhost:8080/"
        },
        "id": "C-QCIrADal2w",
        "outputId": "cc98531f-8102-47df-f369-abb6c8d50e70"
      },
      "outputs": [
        {
          "output_type": "stream",
          "name": "stdout",
          "text": [
            "Epoch: 0, optimizer: <keras.optimizers.optimizer_v2.adam.Adam object at 0x7f30ec9ac3d0>\n"
          ]
        },
        {
          "output_type": "stream",
          "name": "stderr",
          "text": [
            "100%|██████████| 1563/1563 [02:28<00:00, 10.55it/s]\n"
          ]
        },
        {
          "output_type": "stream",
          "name": "stdout",
          "text": [
            "['train_total_frobenius_norm: 27.23931312561035', 'train_loss: 2.1238958835601807', 'train_accuracy: 0.20701999962329865']\n",
            "['val_total_frobenius_norm: 30.15519142150879', 'val_loss: 2.019671678543091', 'val_accuracy: 0.25380000472068787']\n",
            "Epoch: 1, optimizer: <keras.optimizers.optimizer_v2.adam.Adam object at 0x7f30ec9ac3d0>\n"
          ]
        },
        {
          "output_type": "stream",
          "name": "stderr",
          "text": [
            "100%|██████████| 1563/1563 [02:22<00:00, 10.94it/s]\n"
          ]
        },
        {
          "output_type": "stream",
          "name": "stdout",
          "text": [
            "['train_total_frobenius_norm: 32.28423309326172', 'train_loss: 1.971914291381836', 'train_accuracy: 0.28700000047683716']\n",
            "['val_total_frobenius_norm: 34.61240005493164', 'val_loss: 1.926834225654602', 'val_accuracy: 0.31929999589920044']\n",
            "Epoch: 2, optimizer: <keras.optimizers.optimizer_v2.adam.Adam object at 0x7f30ec9ac3d0>\n"
          ]
        },
        {
          "output_type": "stream",
          "name": "stderr",
          "text": [
            "100%|██████████| 1563/1563 [02:22<00:00, 10.94it/s]\n"
          ]
        },
        {
          "output_type": "stream",
          "name": "stdout",
          "text": [
            "['train_total_frobenius_norm: 36.99781036376953', 'train_loss: 1.8996446132659912', 'train_accuracy: 0.3346799910068512']\n",
            "['val_total_frobenius_norm: 39.367252349853516', 'val_loss: 1.854984164237976', 'val_accuracy: 0.36059999465942383']\n",
            "Epoch: 3, optimizer: <keras.optimizers.optimizer_v2.adam.Adam object at 0x7f30ec9ac3d0>\n"
          ]
        },
        {
          "output_type": "stream",
          "name": "stderr",
          "text": [
            "100%|██████████| 1563/1563 [02:22<00:00, 10.95it/s]\n"
          ]
        },
        {
          "output_type": "stream",
          "name": "stdout",
          "text": [
            "['train_total_frobenius_norm: 41.61174011230469', 'train_loss: 1.8433382511138916', 'train_accuracy: 0.3691200017929077']\n",
            "['val_total_frobenius_norm: 43.706275939941406', 'val_loss: 1.8193410634994507', 'val_accuracy: 0.38260000944137573']\n",
            "Epoch: 4, optimizer: <keras.optimizers.optimizer_v2.adam.Adam object at 0x7f30ec9ac3d0>\n"
          ]
        },
        {
          "output_type": "stream",
          "name": "stderr",
          "text": [
            "100%|██████████| 1563/1563 [02:22<00:00, 10.95it/s]\n"
          ]
        },
        {
          "output_type": "stream",
          "name": "stdout",
          "text": [
            "['train_total_frobenius_norm: 45.626495361328125', 'train_loss: 1.800682544708252', 'train_accuracy: 0.39041998982429504']\n",
            "['val_total_frobenius_norm: 47.558528900146484', 'val_loss: 1.7894127368927002', 'val_accuracy: 0.40230000019073486']\n",
            "Epoch: 5, optimizer: <keras.optimizers.optimizer_v2.adam.Adam object at 0x7f30ec9ac3d0>\n"
          ]
        },
        {
          "output_type": "stream",
          "name": "stderr",
          "text": [
            "100%|██████████| 1563/1563 [02:22<00:00, 10.94it/s]\n"
          ]
        },
        {
          "output_type": "stream",
          "name": "stdout",
          "text": [
            "['train_total_frobenius_norm: 49.31460952758789', 'train_loss: 1.7730824947357178', 'train_accuracy: 0.4080199897289276']\n",
            "['val_total_frobenius_norm: 51.001953125', 'val_loss: 1.744619369506836', 'val_accuracy: 0.4178999960422516']\n",
            "Epoch: 6, optimizer: <keras.optimizers.optimizer_v2.adam.Adam object at 0x7f30ec9ac3d0>\n"
          ]
        },
        {
          "output_type": "stream",
          "name": "stderr",
          "text": [
            "100%|██████████| 1563/1563 [02:22<00:00, 10.94it/s]\n"
          ]
        },
        {
          "output_type": "stream",
          "name": "stdout",
          "text": [
            "['train_total_frobenius_norm: 52.64773941040039', 'train_loss: 1.7474925518035889', 'train_accuracy: 0.4198800027370453']\n",
            "['val_total_frobenius_norm: 54.26264953613281', 'val_loss: 1.7719305753707886', 'val_accuracy: 0.4092000126838684']\n",
            "Epoch: 7, optimizer: <keras.optimizers.optimizer_v2.adam.Adam object at 0x7f30ec9ac3d0>\n"
          ]
        },
        {
          "output_type": "stream",
          "name": "stderr",
          "text": [
            "100%|██████████| 1563/1563 [02:22<00:00, 10.95it/s]\n"
          ]
        },
        {
          "output_type": "stream",
          "name": "stdout",
          "text": [
            "['train_total_frobenius_norm: 55.88828659057617', 'train_loss: 1.7315983772277832', 'train_accuracy: 0.42706000804901123']\n",
            "['val_total_frobenius_norm: 57.52907943725586', 'val_loss: 1.7731531858444214', 'val_accuracy: 0.4090999960899353']\n",
            "Epoch: 8, optimizer: <keras.optimizers.optimizer_v2.adam.Adam object at 0x7f30ec9ac3d0>\n"
          ]
        },
        {
          "output_type": "stream",
          "name": "stderr",
          "text": [
            "100%|██████████| 1563/1563 [02:05<00:00, 12.49it/s]\n"
          ]
        },
        {
          "output_type": "stream",
          "name": "stdout",
          "text": [
            "['train_total_frobenius_norm: 59.05134963989258', 'train_loss: 1.7126153707504272', 'train_accuracy: 0.43689998984336853']\n",
            "['val_total_frobenius_norm: 60.60334014892578', 'val_loss: 1.713077187538147', 'val_accuracy: 0.4392000138759613']\n",
            "Epoch: 9, optimizer: <keras.optimizers.optimizer_v2.adam.Adam object at 0x7f30ec9ac3d0>\n"
          ]
        },
        {
          "output_type": "stream",
          "name": "stderr",
          "text": [
            "100%|██████████| 1563/1563 [02:22<00:00, 10.95it/s]\n"
          ]
        },
        {
          "output_type": "stream",
          "name": "stdout",
          "text": [
            "['train_total_frobenius_norm: 61.999210357666016', 'train_loss: 1.6995078325271606', 'train_accuracy: 0.44457998871803284']\n",
            "['val_total_frobenius_norm: 63.43865966796875', 'val_loss: 1.6827775239944458', 'val_accuracy: 0.45809999108314514']\n",
            "Epoch: 10, optimizer: <keras.optimizers.optimizer_v2.adam.Adam object at 0x7f30ec9ac3d0>\n"
          ]
        },
        {
          "output_type": "stream",
          "name": "stderr",
          "text": [
            "100%|██████████| 1563/1563 [02:22<00:00, 10.95it/s]\n"
          ]
        },
        {
          "output_type": "stream",
          "name": "stdout",
          "text": [
            "['train_total_frobenius_norm: 64.81429290771484', 'train_loss: 1.681768536567688', 'train_accuracy: 0.45320001244544983']\n",
            "['val_total_frobenius_norm: 66.28063201904297', 'val_loss: 1.6811749935150146', 'val_accuracy: 0.4523000121116638']\n",
            "Epoch: 11, optimizer: <keras.optimizers.optimizer_v2.adam.Adam object at 0x7f30ec9ac3d0>\n"
          ]
        },
        {
          "output_type": "stream",
          "name": "stderr",
          "text": [
            "100%|██████████| 1563/1563 [02:22<00:00, 10.95it/s]\n"
          ]
        },
        {
          "output_type": "stream",
          "name": "stdout",
          "text": [
            "['train_total_frobenius_norm: 67.61622619628906', 'train_loss: 1.668562650680542', 'train_accuracy: 0.46066001057624817']\n",
            "['val_total_frobenius_norm: 68.98614501953125', 'val_loss: 1.6505099534988403', 'val_accuracy: 0.4697999954223633']\n",
            "Epoch: 12, optimizer: <keras.optimizers.optimizer_v2.adam.Adam object at 0x7f30ec9ac3d0>\n"
          ]
        },
        {
          "output_type": "stream",
          "name": "stderr",
          "text": [
            "100%|██████████| 1563/1563 [02:22<00:00, 10.95it/s]\n"
          ]
        },
        {
          "output_type": "stream",
          "name": "stdout",
          "text": [
            "['train_total_frobenius_norm: 70.33905792236328', 'train_loss: 1.65531587600708', 'train_accuracy: 0.46786001324653625']\n",
            "['val_total_frobenius_norm: 71.60334777832031', 'val_loss: 1.6629823446273804', 'val_accuracy: 0.45350000262260437']\n",
            "Epoch: 13, optimizer: <keras.optimizers.optimizer_v2.adam.Adam object at 0x7f30ec9ac3d0>\n"
          ]
        },
        {
          "output_type": "stream",
          "name": "stderr",
          "text": [
            "100%|██████████| 1563/1563 [02:22<00:00, 10.95it/s]\n"
          ]
        },
        {
          "output_type": "stream",
          "name": "stdout",
          "text": [
            "['train_total_frobenius_norm: 72.8695297241211', 'train_loss: 1.6452325582504272', 'train_accuracy: 0.47473999857902527']\n",
            "['val_total_frobenius_norm: 74.08647155761719', 'val_loss: 1.6321948766708374', 'val_accuracy: 0.47679999470710754']\n",
            "Epoch: 14, optimizer: <keras.optimizers.optimizer_v2.adam.Adam object at 0x7f30ec9ac3d0>\n"
          ]
        },
        {
          "output_type": "stream",
          "name": "stderr",
          "text": [
            "100%|██████████| 1563/1563 [02:22<00:00, 10.95it/s]\n"
          ]
        },
        {
          "output_type": "stream",
          "name": "stdout",
          "text": [
            "['train_total_frobenius_norm: 75.30472564697266', 'train_loss: 1.6351337432861328', 'train_accuracy: 0.4790799915790558']\n",
            "['val_total_frobenius_norm: 76.47868347167969', 'val_loss: 1.6497564315795898', 'val_accuracy: 0.47269999980926514']\n"
          ]
        }
      ],
      "source": [
        "training()"
      ]
    },
    {
      "cell_type": "markdown",
      "metadata": {
        "id": "l7oGi01h461F"
      },
      "source": [
        "## **2.4 Visualization**\n",
        "\n",
        "---"
      ]
    },
    {
      "cell_type": "code",
      "execution_count": null,
      "metadata": {
        "colab": {
          "base_uri": "https://localhost:8080/",
          "height": 279
        },
        "id": "zAmSKSPlbyMK",
        "outputId": "f1f561ce-6310-4c5f-cc90-0b4564b331dd"
      },
      "outputs": [
        {
          "output_type": "display_data",
          "data": {
            "text/plain": [
              "<Figure size 432x288 with 1 Axes>"
            ],
            "image/png": "[encoded data removed]"
          },
          "metadata": {
            "needs_background": "light"
          }
        }
      ],
      "source": [
        "fig = plt.figure()\n",
        "line1, = plt.plot(train_losses)\n",
        "line2, = plt.plot(train_accuracies)\n",
        "line3, = plt.plot(val_losses)\n",
        "line4, = plt.plot(val_accuracies)\n",
        "plt.xlabel(\"Training steps\")\n",
        "plt.ylabel(\"Loss/Accuracy\")\n",
        "plt.legend((line1, line2, line3, line4),(\"Training Loss\",\"Training Accuracy\",\"Test Loss\",\"Test Accuracy\"))\n",
        "plt.show()"
      ]
    },
    {
      "cell_type": "markdown",
      "source": [
        "Observation:\n",
        "\n",
        "---\n",
        "\n",
        "\n",
        "Although the accuarcy decreases but the overfitting problem is solved."
      ],
      "metadata": {
        "id": "35pm4tsF-ZjP"
      }
    }
  ],
  "metadata": {
    "accelerator": "GPU",
    "colab": {
      "provenance": [],
      "include_colab_link": true
    },
    "gpuClass": "standard",
    "kernelspec": {
      "display_name": "Python 3",
      "name": "python3"
    },
    "language_info": {
      "name": "python"
    }
  },
  "nbformat": 4,
  "nbformat_minor": 0
}
