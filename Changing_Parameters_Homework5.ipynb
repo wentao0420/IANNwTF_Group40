{
  "nbformat": 4,
  "nbformat_minor": 0,
  "metadata": {
    "colab": {
      "provenance": [],
      "authorship_tag": "ABX9TyNWzIf1xbhJ4F2N6IrAO+rM",
      "include_colab_link": true
    },
    "kernelspec": {
      "name": "python3",
      "display_name": "Python 3"
    },
    "language_info": {
      "name": "python"
    },
    "accelerator": "GPU",
    "gpuClass": "standard"
  },
  "cells": [
    {
      "cell_type": "markdown",
      "metadata": {
        "id": "view-in-github",
        "colab_type": "text"
      },
      "source": [
        "<a href=\"https://colab.research.google.com/github/wentao0420/IANNwTF_Group40/blob/main/Changing_Parameters_Homework5.ipynb\" target=\"_parent\"><img src=\"https://colab.research.google.com/assets/colab-badge.svg\" alt=\"Open In Colab\"/></a>"
      ]
    },
    {
      "cell_type": "markdown",
      "source": [
        "## **Changing Parameters**\n",
        "\n",
        "---\n",
        "\n",
        "1. Changed learning rate (from 0.01 to 0.1)\n",
        "2. Tried other optimizers (AdaGrad, RMSProp, SGD with momentum), but Adam showed the best results, so we stick to Adam\n",
        "3. Added 3 conv layers (convlayer5, convlayer6, convlayer7)\n",
        "4. Changed number of filter (convlayer1-3: from 24 to 256; convlayer4-7: from 48 to 512)"
      ],
      "metadata": {
        "id": "vD4ODyu_5cvh"
      }
    },
    {
      "cell_type": "code",
      "execution_count": 16,
      "metadata": {
        "id": "lp03HlbXkpGD"
      },
      "outputs": [],
      "source": [
        "import numpy as np\n",
        "import tensorflow as tf\n",
        "import matplotlib.pyplot as plt\n",
        "import tensorflow_datasets as tfds\n",
        "import datetime as datetime\n",
        "import tqdm"
      ]
    },
    {
      "cell_type": "code",
      "source": [
        "(train_ds, test_ds), ds_info = tfds.load ('cifar10', split =['train', 'test'], as_supervised = True, with_info = True)"
      ],
      "metadata": {
        "id": "9syIXnGtkwaC"
      },
      "execution_count": 17,
      "outputs": []
    },
    {
      "cell_type": "code",
      "source": [
        "def preprocess(ds):\n",
        "    # image should be float\n",
        "    ds = ds.map(lambda x, t: (tf.cast(x, tf.float32), t))\n",
        "    # image vector will here have values between -1 and 1\n",
        "    ds = ds.map(lambda x,t: ((x/128.)-1., t))\n",
        "    # target vector is converted into one-hot vector\n",
        "    ds = ds.map(lambda x, t: (x, tf.one_hot(t, depth=10))) \n",
        "    # cache\n",
        "    ds = ds.cache()\n",
        "    # shuffle, batch, prefetch\n",
        "    ds = ds.shuffle(1000)\n",
        "    ds = ds.batch(32)\n",
        "    ds = ds.prefetch(tf.data.AUTOTUNE) \n",
        "\n",
        "    return ds    \n",
        "\n",
        "train_ds = preprocess(train_ds)\n",
        "test_ds = preprocess(test_ds)"
      ],
      "metadata": {
        "id": "ObD5v68-kzWx"
      },
      "execution_count": 18,
      "outputs": []
    },
    {
      "cell_type": "code",
      "source": [
        "class BasicConv(tf.keras.Model):\n",
        "    def __init__(self):\n",
        "        super(BasicConv, self).__init__()\n",
        "\n",
        "        self.metrics_list = [tf.keras.metrics.BinaryAccuracy(name=\"accuracy\"),\n",
        "                             tf.keras.metrics.Mean(name=\"loss\")]\n",
        "        self.optimizer = tf.keras.optimizers.Adam()\n",
        "        self.loss_function = tf.keras.losses.CategoricalCrossentropy()\n",
        "\n",
        "        self.convlayer1 = tf.keras.layers.Conv2D(filters=256, kernel_size=3, padding='same', activation='relu') \n",
        "        self.convlayer2 = tf.keras.layers.Conv2D(filters=256, kernel_size=3, padding='same', activation='relu') \n",
        "        self.convlayer3 = tf.keras.layers.Conv2D(filters=256, kernel_size=3, padding='same', activation='relu') \n",
        "        self.pooling = tf.keras.layers.MaxPooling2D(pool_size=2, strides=2)\n",
        "\n",
        "        self.convlayer4 = tf.keras.layers.Conv2D(filters=512, kernel_size=3, padding='same', activation='relu') \n",
        "        self.convlayer5 = tf.keras.layers.Conv2D(filters=512, kernel_size=3, padding='same', activation='relu')\n",
        "        self.convlayer6 = tf.keras.layers.Conv2D(filters=512, kernel_size=3, padding='same', activation='relu')\n",
        "        self.convlayer7 = tf.keras.layers.Conv2D(filters=512, kernel_size=3, padding='same', activation='relu')\n",
        "        self.global_pool = tf.keras.layers.GlobalAvgPool2D()\n",
        "        \n",
        "        self.out = tf.keras.layers.Dense(10, activation='softmax')\n",
        "\n",
        "    def call(self, x):\n",
        "        x = self.convlayer1(x)\n",
        "        x = self.convlayer2(x)\n",
        "        x = self.pooling(x)\n",
        "        x = self.convlayer3(x)\n",
        "        x = self.convlayer4(x)\n",
        "        x = self.global_pool(x)\n",
        "        x = self.out(x)\n",
        "        return x\n",
        "\n",
        "    @property\n",
        "    def metrics(self):\n",
        "        return self.metrics_list\n",
        "\n",
        "    def reset_metrics(self):\n",
        "        for metric in self.metrics:\n",
        "            metric.reset_states()\n",
        "\n",
        "    @tf.function\n",
        "    def train_step(self, data):\n",
        "        img, label = data\n",
        "\n",
        "        with tf.GradientTape() as tape:\n",
        "            prediction = self(img, training=True)\n",
        "            loss = self.loss_function(label, prediction)\n",
        "\n",
        "        gradients = tape.gradient(loss, self.trainable_variables)\n",
        "\n",
        "        self.optimizer.apply_gradients(zip(gradients, self.trainable_variables))\n",
        "\n",
        "        # update the state of the metrics according to loss\n",
        "        self.metrics[0].update_state(label, prediction)\n",
        "        self.metrics[1].update_state(loss)\n",
        "\n",
        "        # return a dictionary with metric names as keys and metric results as values\n",
        "        return {m.name: m.result() for m in self.metrics}\n",
        "\n",
        "    @tf.function\n",
        "    def test_step(self, data):\n",
        "        img, label = data\n",
        "\n",
        "        prediction = self(img, training=False)\n",
        "        loss = self.loss_function(label, prediction)\n",
        "\n",
        "        # update the state of the metrics according to loss\n",
        "        self.metrics[0].update_state(label, prediction)\n",
        "        self.metrics[1].update_state(loss)\n",
        "\n",
        "        # return a dictionary with metric names as keys and metric results as values\n",
        "        return {m.name: m.result() for m in self.metrics}"
      ],
      "metadata": {
        "id": "1EYjhPEkk3A1"
      },
      "execution_count": 38,
      "outputs": []
    },
    {
      "cell_type": "code",
      "source": [
        "def create_summary_writers(config_name):\n",
        "    \n",
        "    current_time = datetime.datetime.now().strftime(\"%Y%m%d-%H%M%S\")\n",
        "\n",
        "    train_log_path = f\"logs/{config_name}/{current_time}/train\"\n",
        "    val_log_path = f\"logs/{config_name}/{current_time}/val\"\n",
        "\n",
        "    # log writer for training metrics\n",
        "    train_summary_writer = tf.summary.create_file_writer(train_log_path)\n",
        "\n",
        "    # log writer for validation metrics\n",
        "    val_summary_writer = tf.summary.create_file_writer(val_log_path)\n",
        "    \n",
        "    return train_summary_writer, val_summary_writer\n",
        "\n",
        "train_summary_writer, val_summary_writer = create_summary_writers(config_name=\"RUN1\")"
      ],
      "metadata": {
        "id": "wtX_U0gAk8VJ"
      },
      "execution_count": 39,
      "outputs": []
    },
    {
      "cell_type": "code",
      "source": [
        "# initialize lists for later visualiztion\n",
        "train_losses = []\n",
        "train_accuracies = []\n",
        "val_losses = []\n",
        "val_accuracies = []\n",
        "\n",
        "# initialize epochs and learning rate\n",
        "epochs = 15\n",
        "learning_rate = 0.1\n",
        "\n",
        "# initialize model\n",
        "model = BasicConv()"
      ],
      "metadata": {
        "id": "jewZa4gkk-1D"
      },
      "execution_count": 41,
      "outputs": []
    },
    {
      "cell_type": "code",
      "source": [
        "def training():\n",
        "    \n",
        "    for epoch in range(epochs):\n",
        "        print(f\"Epoch: {epoch}, optimizer: {model.optimizer}\")\n",
        "\n",
        "        for data in tqdm.tqdm(train_ds, position=0, leave=True):\n",
        "            metrics = model.train_step(data)\n",
        "\n",
        "            with train_summary_writer.as_default():\n",
        "                for metric in model.metrics:\n",
        "                    tf.summary.scalar(f\"{metric.name}\", metric.result(), step=epoch)\n",
        "\n",
        "        print([f\"train_{key}: {value.numpy()}\" for (key, value) in metrics.items()])\n",
        "\n",
        "        for (key, value) in metrics.items():\n",
        "            if key == \"loss\":\n",
        "                train_losses.append(value.numpy())\n",
        "            elif key == \"accuracy\":\n",
        "                train_accuracies.append(value.numpy())\n",
        "\n",
        "        # reset metric object\n",
        "        model.reset_metrics()\n",
        "\n",
        "        # evaluate on validation data\n",
        "        for data in test_ds:\n",
        "            metrics = model.test_step(data)\n",
        "\n",
        "        # log validation metrics\n",
        "        with val_summary_writer.as_default():\n",
        "            for metric in model.metrics:\n",
        "                tf.summary.scalar(f\"{metric.name}\", metric.result(), step = epoch)\n",
        "\n",
        "        print([f\"val_{key}: {value.numpy()}\" for (key, value) in metrics.items()])\n",
        "\n",
        "        # make a list of losses and accuracies\n",
        "        for (key, value) in metrics.items():\n",
        "            if key == \"loss\":\n",
        "                val_losses.append(value.numpy())\n",
        "            elif key == \"accuracy\":\n",
        "                val_accuracies.append(value.numpy())\n",
        "\n",
        "        # reset all metrics\n",
        "        model.reset_metrics()"
      ],
      "metadata": {
        "id": "-pumhfw2k_p3"
      },
      "execution_count": 42,
      "outputs": []
    },
    {
      "cell_type": "code",
      "source": [
        "training()"
      ],
      "metadata": {
        "colab": {
          "base_uri": "https://localhost:8080/"
        },
        "id": "m9G6Y3O0lEQF",
        "outputId": "1430f9c6-ab91-46c2-e198-c9ab62c40a70"
      },
      "execution_count": 43,
      "outputs": [
        {
          "output_type": "stream",
          "name": "stdout",
          "text": [
            "Epoch: 0, optimizer: <keras.optimizers.optimizer_v2.adam.Adam object at 0x7fadb2bdbe80>\n"
          ]
        },
        {
          "output_type": "stream",
          "name": "stderr",
          "text": [
            "100%|██████████| 1563/1563 [00:40<00:00, 38.75it/s]\n"
          ]
        },
        {
          "output_type": "stream",
          "name": "stdout",
          "text": [
            "['train_accuracy: 0.9130539894104004', 'train_loss: 1.4789992570877075']\n",
            "['val_accuracy: 0.9283599853515625', 'val_loss: 1.17416512966156']\n",
            "Epoch: 1, optimizer: <keras.optimizers.optimizer_v2.adam.Adam object at 0x7fadb2bdbe80>\n"
          ]
        },
        {
          "output_type": "stream",
          "name": "stderr",
          "text": [
            "100%|██████████| 1563/1563 [00:39<00:00, 39.91it/s]\n"
          ]
        },
        {
          "output_type": "stream",
          "name": "stdout",
          "text": [
            "['train_accuracy: 0.9371659755706787', 'train_loss: 0.9921972751617432']\n",
            "['val_accuracy: 0.9441499710083008', 'val_loss: 0.8611710667610168']\n",
            "Epoch: 2, optimizer: <keras.optimizers.optimizer_v2.adam.Adam object at 0x7fadb2bdbe80>\n"
          ]
        },
        {
          "output_type": "stream",
          "name": "stderr",
          "text": [
            "100%|██████████| 1563/1563 [00:38<00:00, 40.20it/s]\n"
          ]
        },
        {
          "output_type": "stream",
          "name": "stdout",
          "text": [
            "['train_accuracy: 0.9499660134315491', 'train_loss: 0.7764374613761902']\n",
            "['val_accuracy: 0.9477800130844116', 'val_loss: 0.804219663143158']\n",
            "Epoch: 3, optimizer: <keras.optimizers.optimizer_v2.adam.Adam object at 0x7fadb2bdbe80>\n"
          ]
        },
        {
          "output_type": "stream",
          "name": "stderr",
          "text": [
            "100%|██████████| 1563/1563 [00:39<00:00, 40.05it/s]\n"
          ]
        },
        {
          "output_type": "stream",
          "name": "stdout",
          "text": [
            "['train_accuracy: 0.9578740000724792', 'train_loss: 0.6478350162506104']\n",
            "['val_accuracy: 0.9521899819374084', 'val_loss: 0.7430160045623779']\n",
            "Epoch: 4, optimizer: <keras.optimizers.optimizer_v2.adam.Adam object at 0x7fadb2bdbe80>\n"
          ]
        },
        {
          "output_type": "stream",
          "name": "stderr",
          "text": [
            "100%|██████████| 1563/1563 [00:39<00:00, 39.66it/s]\n"
          ]
        },
        {
          "output_type": "stream",
          "name": "stdout",
          "text": [
            "['train_accuracy: 0.964434027671814', 'train_loss: 0.5417011380195618']\n",
            "['val_accuracy: 0.9585000276565552', 'val_loss: 0.6398484110832214']\n",
            "Epoch: 5, optimizer: <keras.optimizers.optimizer_v2.adam.Adam object at 0x7fadb2bdbe80>\n"
          ]
        },
        {
          "output_type": "stream",
          "name": "stderr",
          "text": [
            "100%|██████████| 1563/1563 [00:39<00:00, 39.43it/s]\n"
          ]
        },
        {
          "output_type": "stream",
          "name": "stdout",
          "text": [
            "['train_accuracy: 0.9698820114135742', 'train_loss: 0.4546303451061249']\n",
            "['val_accuracy: 0.9634199738502502', 'val_loss: 0.5681224465370178']\n",
            "Epoch: 6, optimizer: <keras.optimizers.optimizer_v2.adam.Adam object at 0x7fadb2bdbe80>\n"
          ]
        },
        {
          "output_type": "stream",
          "name": "stderr",
          "text": [
            "100%|██████████| 1563/1563 [00:39<00:00, 39.53it/s]\n"
          ]
        },
        {
          "output_type": "stream",
          "name": "stdout",
          "text": [
            "['train_accuracy: 0.9747719764709473', 'train_loss: 0.3749327063560486']\n",
            "['val_accuracy: 0.9617999792098999', 'val_loss: 0.6222088932991028']\n",
            "Epoch: 7, optimizer: <keras.optimizers.optimizer_v2.adam.Adam object at 0x7fadb2bdbe80>\n"
          ]
        },
        {
          "output_type": "stream",
          "name": "stderr",
          "text": [
            "100%|██████████| 1563/1563 [00:39<00:00, 39.49it/s]\n"
          ]
        },
        {
          "output_type": "stream",
          "name": "stdout",
          "text": [
            "['train_accuracy: 0.9795420169830322', 'train_loss: 0.3015784025192261']\n",
            "['val_accuracy: 0.9640399813652039', 'val_loss: 0.6164453029632568']\n",
            "Epoch: 8, optimizer: <keras.optimizers.optimizer_v2.adam.Adam object at 0x7fadb2bdbe80>\n"
          ]
        },
        {
          "output_type": "stream",
          "name": "stderr",
          "text": [
            "100%|██████████| 1563/1563 [00:39<00:00, 39.49it/s]\n"
          ]
        },
        {
          "output_type": "stream",
          "name": "stdout",
          "text": [
            "['train_accuracy: 0.9836699962615967', 'train_loss: 0.23872241377830505']\n",
            "['val_accuracy: 0.9627500176429749', 'val_loss: 0.6680644154548645']\n",
            "Epoch: 9, optimizer: <keras.optimizers.optimizer_v2.adam.Adam object at 0x7fadb2bdbe80>\n"
          ]
        },
        {
          "output_type": "stream",
          "name": "stderr",
          "text": [
            "100%|██████████| 1563/1563 [00:39<00:00, 39.60it/s]\n"
          ]
        },
        {
          "output_type": "stream",
          "name": "stdout",
          "text": [
            "['train_accuracy: 0.987388014793396', 'train_loss: 0.18086373805999756']\n",
            "['val_accuracy: 0.9634400010108948', 'val_loss: 0.7414306998252869']\n",
            "Epoch: 10, optimizer: <keras.optimizers.optimizer_v2.adam.Adam object at 0x7fadb2bdbe80>\n"
          ]
        },
        {
          "output_type": "stream",
          "name": "stderr",
          "text": [
            "100%|██████████| 1563/1563 [00:40<00:00, 38.18it/s]\n"
          ]
        },
        {
          "output_type": "stream",
          "name": "stdout",
          "text": [
            "['train_accuracy: 0.9899579882621765', 'train_loss: 0.14420977234840393']\n",
            "['val_accuracy: 0.9629700183868408', 'val_loss: 0.7534069418907166']\n",
            "Epoch: 11, optimizer: <keras.optimizers.optimizer_v2.adam.Adam object at 0x7fadb2bdbe80>\n"
          ]
        },
        {
          "output_type": "stream",
          "name": "stderr",
          "text": [
            "100%|██████████| 1563/1563 [00:39<00:00, 39.60it/s]\n"
          ]
        },
        {
          "output_type": "stream",
          "name": "stdout",
          "text": [
            "['train_accuracy: 0.9918980002403259', 'train_loss: 0.11731764674186707']\n",
            "['val_accuracy: 0.9640799760818481', 'val_loss: 0.8116056323051453']\n",
            "Epoch: 12, optimizer: <keras.optimizers.optimizer_v2.adam.Adam object at 0x7fadb2bdbe80>\n"
          ]
        },
        {
          "output_type": "stream",
          "name": "stderr",
          "text": [
            "100%|██████████| 1563/1563 [00:39<00:00, 39.54it/s]\n"
          ]
        },
        {
          "output_type": "stream",
          "name": "stdout",
          "text": [
            "['train_accuracy: 0.9930059909820557', 'train_loss: 0.09884185343980789']\n",
            "['val_accuracy: 0.9624599814414978', 'val_loss: 0.8616166114807129']\n",
            "Epoch: 13, optimizer: <keras.optimizers.optimizer_v2.adam.Adam object at 0x7fadb2bdbe80>\n"
          ]
        },
        {
          "output_type": "stream",
          "name": "stderr",
          "text": [
            "100%|██████████| 1563/1563 [00:39<00:00, 39.44it/s]\n"
          ]
        },
        {
          "output_type": "stream",
          "name": "stdout",
          "text": [
            "['train_accuracy: 0.9942399859428406', 'train_loss: 0.08259576559066772']\n",
            "['val_accuracy: 0.9616199731826782', 'val_loss: 0.9398605823516846']\n",
            "Epoch: 14, optimizer: <keras.optimizers.optimizer_v2.adam.Adam object at 0x7fadb2bdbe80>\n"
          ]
        },
        {
          "output_type": "stream",
          "name": "stderr",
          "text": [
            "100%|██████████| 1563/1563 [00:39<00:00, 39.54it/s]\n"
          ]
        },
        {
          "output_type": "stream",
          "name": "stdout",
          "text": [
            "['train_accuracy: 0.9946380257606506', 'train_loss: 0.07948978990316391']\n",
            "['val_accuracy: 0.9634400010108948', 'val_loss: 0.9049245119094849']\n"
          ]
        }
      ]
    },
    {
      "cell_type": "code",
      "source": [
        "fig = plt.figure()\n",
        "line1, = plt.plot(train_losses)\n",
        "line2, = plt.plot(train_accuracies)\n",
        "line3, = plt.plot(val_losses)\n",
        "line4, = plt.plot(val_accuracies)\n",
        "plt.xlabel(\"Training steps\")\n",
        "plt.ylabel(\"Loss/Accuracy\")\n",
        "plt.legend((line1, line2, line3, line4),(\"Training Loss\",\"Training Accuracy\",\"Test Loss\",\"Test Accuracy\"))\n",
        "plt.show()"
      ],
      "metadata": {
        "colab": {
          "base_uri": "https://localhost:8080/",
          "height": 279
        },
        "id": "vs9eZYYclE8h",
        "outputId": "d8a02340-e119-4fb6-f859-981f886392de"
      },
      "execution_count": 44,
      "outputs": [
        {
          "output_type": "display_data",
          "data": {
            "text/plain": [
              "<Figure size 432x288 with 1 Axes>"
            ],
            "image/png": "[encoded data removed]"
          },
          "metadata": {
            "needs_background": "light"
          }
        }
      ]
    }
  ]
}